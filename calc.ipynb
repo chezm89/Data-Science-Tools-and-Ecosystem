{
 "cells": [
  {
   "cell_type": "markdown",
   "id": "f337f4eb",
   "metadata": {},
   "source": [
    "# Data Science Tools and Ecosystem"
   ]
  },
  {
   "cell_type": "markdown",
   "id": "93a816cd",
   "metadata": {},
   "source": [
    "## Introduction\n",
    "\n",
    "In this notebook, Data Science Tools and Ecosystem are summarized."
   ]
  },
  {
   "cell_type": "markdown",
   "id": "8624f8de",
   "metadata": {},
   "source": [
    "## Data Science Languages"
   ]
  },
  {
   "cell_type": "markdown",
   "id": "7adee06b",
   "metadata": {},
   "source": [
    "Some of the popular languages that Data Scientists use are:\n",
    "<ol>\n",
    "        <li>Python</li>\n",
    "        <li>R</li>\n",
    "        <li>SQL</li>\n",
    "        <li>Java</li>\n",
    "        <li>Julia</li>\n",
    "        <li>Scala<li>\n",
    "        <li>C/C++</li>\n",
    "        <li>JavaScript</li>\n",
    "    </ol>"
   ]
  },
  {
   "cell_type": "markdown",
   "id": "017c0828",
   "metadata": {},
   "source": [
    "## Data Science Libraries:"
   ]
  },
  {
   "cell_type": "markdown",
   "id": "086e6406",
   "metadata": {},
   "source": [
    "Some of the popular libraries that Data Scientists use are:\n",
    "    <ol>\n",
    "        <li>TensorFlow</li>\n",
    "        <li>NumPy</li>\n",
    "        <li>SciPy</li>\n",
    "        <li>Pandas</li>\n",
    "        <li>Matplotlib<li>\n",
    "        <li>Keras</li>\n",
    "        <li>SciKit-Learn</li>\n",
    "        <li>PyTorch</li>\n",
    "    </ol>"
   ]
  },
  {
   "cell_type": "markdown",
   "id": "06f950c8",
   "metadata": {},
   "source": [
    "## Data Science Tools"
   ]
  },
  {
   "cell_type": "markdown",
   "id": "144193f4",
   "metadata": {},
   "source": [
    "|Multipurpose Tools|Visualization Tools| Big Data Tools|\n",
    "|:----------------:|:-----------------:|:-------------:|\n",
    "|   Apache Spark   |      Tableau      | Apache Hadoop |"
   ]
  },
  {
   "cell_type": "markdown",
   "id": "e7538874",
   "metadata": {},
   "source": [
    "## Arithmetic Expressions"
   ]
  },
  {
   "cell_type": "markdown",
   "id": "89d5bab5",
   "metadata": {},
   "source": [
    "An arithmetic expression is an expression built up using numbers, and arithmetic operators.\n",
    "Example:\n",
    "     5  --  a number is an arithmetic expression\n",
    "(3 + 4) -- the  sum of numbers is an arithmetic expression\n",
    "(7 - 3) --  the difference  of two  numbers is an arithmetic expression\n",
    "(2 * 5) -- a product of two numbers is an arithmetic expression.\n",
    "10 / 2  -- dividing numbers is an arithmetic expression.\n",
    "\n"
   ]
  },
  {
   "cell_type": "markdown",
   "id": "63408a4c",
   "metadata": {},
   "source": [
    "## Evaluating Expressions"
   ]
  },
  {
   "cell_type": "code",
   "execution_count": 47,
   "id": "8ec918b3",
   "metadata": {},
   "outputs": [
    {
     "name": "stdout",
     "output_type": "stream",
     "text": [
      "Enter your first number: 10\n",
      "Enter your second number: 5\n",
      "The Sum of 10 and 5 is: 15\n",
      "The product of 10 and 5 is: 50\n"
     ]
    }
   ],
   "source": [
    "# This program show some arithmetic expressions\n",
    "\n",
    "def addition(x,y):\n",
    "    sum = x + y\n",
    "    return sum\n",
    "\n",
    "def multiply(x,y):\n",
    "    product = x * y\n",
    "    return product\n",
    "\n",
    "number_1 = input(\"Enter your first number: \")\n",
    "number_2 = input(\"Enter your second number: \")\n",
    "\n",
    "add = addition(int(number_1), int(number_2))\n",
    "product = multiply(int(number_1), int(number_2))\n",
    "\n",
    "print(f\"The Sum of {number_1} and {number_2} is: {add}\")\n",
    "print(f\"The product of {number_1} and {number_2} is: {product}\")\n"
   ]
  },
  {
   "cell_type": "markdown",
   "id": "35deed4e",
   "metadata": {},
   "source": [
    "## Converting Minuets to Hours"
   ]
  },
  {
   "cell_type": "code",
   "execution_count": 48,
   "id": "e3383244",
   "metadata": {},
   "outputs": [
    {
     "name": "stdout",
     "output_type": "stream",
     "text": [
      "Enter the number of hours you want to convert into minuets: 120\n",
      "there are 2 hours in 120 minuets\n"
     ]
    }
   ],
   "source": [
    "#convert mins to hours\n",
    "\n",
    "hours = input(\"Enter the number of hours you want to convert into minuets: \")\n",
    "\n",
    "tot_hours = int(hours)/60\n",
    "tot_mins = 60 * tot_hours\n",
    "print(f\"there are {int(tot_hours)} hours in {int(tot_mins)} minuets\")"
   ]
  },
  {
   "cell_type": "markdown",
   "id": "6c1d3fef",
   "metadata": {},
   "source": [
    "## Objectives:"
   ]
  },
  {
   "cell_type": "markdown",
   "id": "4a561265",
   "metadata": {},
   "source": [
    "List the objectives that this notebook covered:  \n",
    "    "
   ]
  },
  {
   "cell_type": "markdown",
   "id": "cdc1931b",
   "metadata": {},
   "source": [
    "List the objectives that this notebook covered:  \n",
    "  <ol>\n",
    "    <li>Introduction</li>\n",
    "    <li>Data Science Languages</li>\n",
    "    <li>Data Science Libraries</li>\n",
    "    <li>Data Science Tools</li>\n",
    "    <li>Arithmetic Expressions</li>\n",
    "    <li>Evaluating Expressions</li>\n",
    "    <li>Converting Minuets to Hours</li>\n",
    "  </ol>"
   ]
  },
  {
   "cell_type": "markdown",
   "id": "510f4970",
   "metadata": {},
   "source": [
    "## Author: \n",
    "Chez Middleton"
   ]
  },
  {
   "cell_type": "code",
   "execution_count": null,
   "id": "346cb4c6",
   "metadata": {},
   "outputs": [],
   "source": []
  }
 ],
 "metadata": {
  "kernelspec": {
   "display_name": "Python 3 (ipykernel)",
   "language": "python",
   "name": "python3"
  },
  "language_info": {
   "codemirror_mode": {
    "name": "ipython",
    "version": 3
   },
   "file_extension": ".py",
   "mimetype": "text/x-python",
   "name": "python",
   "nbconvert_exporter": "python",
   "pygments_lexer": "ipython3",
   "version": "3.10.9"
  }
 },
 "nbformat": 4,
 "nbformat_minor": 5
}
